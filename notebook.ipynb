{
 "cells": [
  {
   "cell_type": "markdown",
   "metadata": {},
   "source": [
    "# Online Brain Intensive notebook\n",
    "Notebook to experiment in for the [Online Brain Intensive](https://onlinebrainintensive.com)."
   ]
  },
  {
   "cell_type": "code",
   "execution_count": 13,
   "metadata": {
    "collapsed": true
   },
   "outputs": [],
   "source": [
    "from ipywidgets import interact\n",
    "import ipywidgets as widgets\n",
    "import nibabel as nib\n",
    "import matplotlib.pyplot as plt\n",
    "import numpy as np\n",
    "%matplotlib inline"
   ]
  },
  {
   "cell_type": "markdown",
   "metadata": {},
   "source": [
    "### Experiment with widgets\n",
    "Let's see whether we can create an interactive nifti-viewer."
   ]
  },
  {
   "cell_type": "code",
   "execution_count": 21,
   "metadata": {},
   "outputs": [
    {
     "data": {
      "application/vnd.jupyter.widget-view+json": {
       "model_id": "ca4cdff5bcbc4912aec94b2e37175d4d"
      }
     },
     "metadata": {},
     "output_type": "display_data"
    }
   ],
   "source": [
    "data_path = 'data/bids/sub-0020/func/sub-0020_task-harriri_acq-sequential_bold.nii.gz'\n",
    "data = nib.load(data_path).get_data()\n",
    "    \n",
    "@interact(idx_x=(0, data_4D.shape[0] -1, 1),\n",
    "          idx_y=(0, data_4D.shape[1] -1, 1),\n",
    "          idx_z=(0, data_4D.shape[2] -1, 1))\n",
    "def visualize(idx_x=20, idx_y=20, idx_z=20):\n",
    "    tmp = data[idx_x, idx_y, idx_z, :]\n",
    "    plt.plot(np.arange(tmp.size), tmp)\n",
    "    plt.xlabel(\"Time (TR)\")\n",
    "    plt.ylabel(\"BOLD-activity (A.U.)\")\n",
    "    plt.show()"
   ]
  }
 ],
 "metadata": {
  "kernelspec": {
   "display_name": "Python 3",
   "language": "python",
   "name": "python3"
  },
  "language_info": {
   "codemirror_mode": {
    "name": "ipython",
    "version": 3
   },
   "file_extension": ".py",
   "mimetype": "text/x-python",
   "name": "python",
   "nbconvert_exporter": "python",
   "pygments_lexer": "ipython3",
   "version": "3.6.1"
  }
 },
 "nbformat": 4,
 "nbformat_minor": 2
}
